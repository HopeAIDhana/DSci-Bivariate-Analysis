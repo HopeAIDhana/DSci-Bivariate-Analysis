{
 "cells": [
  {
   "cell_type": "code",
   "execution_count": null,
   "id": "a6685798-9f76-4c70-aa52-0da6f4557851",
   "metadata": {},
   "outputs": [],
   "source": [
    "import pandas as pd"
   ]
  },
  {
   "cell_type": "code",
   "execution_count": null,
   "id": "da1d9d5b-34a1-49e0-afa0-4cb6c08415f3",
   "metadata": {},
   "outputs": [],
   "source": [
    "dataset=pd.read_csv(\"preplacement.csv\")"
   ]
  },
  {
   "cell_type": "code",
   "execution_count": null,
   "id": "187c8a19-789b-42f3-a0c5-2f0c9cbee22e",
   "metadata": {},
   "outputs": [],
   "source": [
    "dataset"
   ]
  },
  {
   "cell_type": "markdown",
   "id": "ed812b24-5ab9-4991-8d0f-7127831bfadc",
   "metadata": {},
   "source": [
    "# Independant -- Unpaired Ttest"
   ]
  },
  {
   "cell_type": "markdown",
   "id": "ce49fe6d-dc0a-4203-ba3f-099a3a6b0ead",
   "metadata": {},
   "source": [
    "# Different Group (Male , Female) But the Condition is same (Salary)"
   ]
  },
  {
   "cell_type": "code",
   "execution_count": null,
   "id": "7fe25fcf-9e48-4824-9b96-c2e78302ec9d",
   "metadata": {},
   "outputs": [],
   "source": [
    "from scipy.stats import ttest_ind\n",
    "dataset=dataset.dropna()\n",
    "male=dataset[dataset['gender']=='M']['salary']\n",
    "female=dataset[dataset['gender']=='F']['salary']\n",
    "ttest_ind(male,female)"
   ]
  },
  {
   "cell_type": "code",
   "execution_count": null,
   "id": "614510bc-9a3c-4a70-a05f-8e9d2a3add0b",
   "metadata": {},
   "outputs": [],
   "source": [
    "from scipy.stats import ttest_ind\n",
    "dataset=dataset.dropna()\n",
    "Central=dataset[dataset['ssc_b']=='Central']['salary']\n",
    "Others=dataset[dataset['ssc_b']=='Others']['salary']\n",
    "ttest_ind(Central,Others)"
   ]
  },
  {
   "cell_type": "markdown",
   "id": "cf280014-faaa-4e24-90ed-2634b619f235",
   "metadata": {},
   "source": [
    "# Dependent -- Paired Ttest"
   ]
  },
  {
   "cell_type": "markdown",
   "id": "b18f17b4-6167-4f2e-85ce-43eb30572501",
   "metadata": {},
   "source": [
    "# Same Group(Commerce) But Condition is Different(etest_p,mba_p)\n",
    "Same Group(Male) But Condition is Different(ssc_p, hsc_p)"
   ]
  },
  {
   "cell_type": "code",
   "execution_count": null,
   "id": "286a1c4f-efc1-4690-b345-0886f49f6033",
   "metadata": {},
   "outputs": [],
   "source": [
    "from scipy.stats import ttest_rel\n",
    "#dataset=dataset.dropna()\n",
    "male=dataset[dataset['gender']=='M']['ssc_p']\n",
    "male1=dataset[dataset['gender']=='M']['hsc_p']\n",
    "ttest_rel(male,male1)"
   ]
  },
  {
   "cell_type": "code",
   "execution_count": null,
   "id": "5b3ee0e2-e889-4256-b24e-8a376a4971db",
   "metadata": {},
   "outputs": [],
   "source": [
    "from scipy.stats import ttest_rel\n",
    "#dataset=dataset.dropna()\n",
    "commerce=dataset[dataset['hsc_s']=='Commerce']['etest_p']\n",
    "commerce1=dataset[dataset['hsc_s']=='Commerce']['mba_p']\n",
    "ttest_rel(commerce,commerce1)"
   ]
  },
  {
   "cell_type": "markdown",
   "id": "ef16da04-2be5-47fe-8e9f-fadbd9ad1210",
   "metadata": {},
   "source": [
    "# Lesser the static value higher the similarity; pvalue should be less than 5%; so here, gender and salary of both male and female shows high similarity"
   ]
  },
  {
   "cell_type": "markdown",
   "id": "f346fc07-6a76-4bd4-88b1-ad7ddd093472",
   "metadata": {},
   "source": [
    "# Hypothesis Testing"
   ]
  },
  {
   "cell_type": "markdown",
   "id": "25a9f401-da9a-4336-9f7a-de5ccdf31993",
   "metadata": {},
   "source": [
    "# statement - Test whether ssc_p of male and hsc_p of male are same?"
   ]
  },
  {
   "cell_type": "markdown",
   "id": "8b8d6eed-1524-46ae-b663-3eb31365b134",
   "metadata": {},
   "source": [
    "# Null Hypothesis - There is no similarity between 10th pass mark and 12th pass mark of male"
   ]
  },
  {
   "cell_type": "markdown",
   "id": "8dc81474-5d2d-423a-9373-68554316c4d9",
   "metadata": {},
   "source": [
    "# Reject Null Hypothesis when p<0.05 and accept alternate hypothesis"
   ]
  },
  {
   "cell_type": "markdown",
   "id": "31a344cd-5a44-4e96-8b2d-52e735e3f878",
   "metadata": {},
   "source": [
    "# Accept Null Hypothesis when p>0.05"
   ]
  },
  {
   "cell_type": "code",
   "execution_count": null,
   "id": "98f04787-ab67-4b22-8caf-a6e1695890e7",
   "metadata": {},
   "outputs": [],
   "source": [
    "from scipy.stats import ttest_rel\n",
    "#dataset=dataset.dropna()\n",
    "male=dataset[dataset['gender']=='M']['ssc_p']\n",
    "male1=dataset[dataset['gender']=='M']['hsc_p']\n",
    "ttest_rel(male,male1)"
   ]
  },
  {
   "cell_type": "markdown",
   "id": "d70ed43a-1931-4ce2-a1ac-aa08076dc1e1",
   "metadata": {},
   "source": [
    "# Result = p > 0.05. This is Null Hypothesis"
   ]
  },
  {
   "cell_type": "code",
   "execution_count": null,
   "id": "277dbd63-36fb-4564-afdf-e3bcaa61be1f",
   "metadata": {},
   "outputs": [],
   "source": []
  },
  {
   "cell_type": "code",
   "execution_count": null,
   "id": "bc304eae-67a8-44f5-ad1a-359d06f93438",
   "metadata": {},
   "outputs": [],
   "source": []
  }
 ],
 "metadata": {
  "kernelspec": {
   "display_name": "Python 3 (ipykernel)",
   "language": "python",
   "name": "python3"
  },
  "language_info": {
   "codemirror_mode": {
    "name": "ipython",
    "version": 3
   },
   "file_extension": ".py",
   "mimetype": "text/x-python",
   "name": "python",
   "nbconvert_exporter": "python",
   "pygments_lexer": "ipython3",
   "version": "3.11.5"
  }
 },
 "nbformat": 4,
 "nbformat_minor": 5
}
