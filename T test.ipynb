{
 "cells": [
  {
   "cell_type": "code",
   "execution_count": 1,
   "id": "a6685798-9f76-4c70-aa52-0da6f4557851",
   "metadata": {},
   "outputs": [],
   "source": [
    "import pandas as pd"
   ]
  },
  {
   "cell_type": "code",
   "execution_count": 2,
   "id": "da1d9d5b-34a1-49e0-afa0-4cb6c08415f3",
   "metadata": {},
   "outputs": [],
   "source": [
    "dataset=pd.read_csv(\"preplacement.csv\")"
   ]
  },
  {
   "cell_type": "code",
   "execution_count": 3,
   "id": "187c8a19-789b-42f3-a0c5-2f0c9cbee22e",
   "metadata": {},
   "outputs": [
    {
     "data": {
      "text/html": [
       "<div>\n",
       "<style scoped>\n",
       "    .dataframe tbody tr th:only-of-type {\n",
       "        vertical-align: middle;\n",
       "    }\n",
       "\n",
       "    .dataframe tbody tr th {\n",
       "        vertical-align: top;\n",
       "    }\n",
       "\n",
       "    .dataframe thead th {\n",
       "        text-align: right;\n",
       "    }\n",
       "</style>\n",
       "<table border=\"1\" class=\"dataframe\">\n",
       "  <thead>\n",
       "    <tr style=\"text-align: right;\">\n",
       "      <th></th>\n",
       "      <th>sl_no</th>\n",
       "      <th>ssc_p</th>\n",
       "      <th>hsc_p</th>\n",
       "      <th>degree_p</th>\n",
       "      <th>etest_p</th>\n",
       "      <th>mba_p</th>\n",
       "      <th>salary</th>\n",
       "      <th>gender</th>\n",
       "      <th>ssc_b</th>\n",
       "      <th>hsc_b</th>\n",
       "      <th>hsc_s</th>\n",
       "      <th>degree_t</th>\n",
       "      <th>workex</th>\n",
       "      <th>specialisation</th>\n",
       "      <th>status</th>\n",
       "    </tr>\n",
       "  </thead>\n",
       "  <tbody>\n",
       "    <tr>\n",
       "      <th>0</th>\n",
       "      <td>1.0</td>\n",
       "      <td>67.00</td>\n",
       "      <td>91.00</td>\n",
       "      <td>58.00</td>\n",
       "      <td>55.0</td>\n",
       "      <td>58.80</td>\n",
       "      <td>270000.0</td>\n",
       "      <td>M</td>\n",
       "      <td>Others</td>\n",
       "      <td>Others</td>\n",
       "      <td>Commerce</td>\n",
       "      <td>Sci&amp;Tech</td>\n",
       "      <td>No</td>\n",
       "      <td>Mkt&amp;HR</td>\n",
       "      <td>Placed</td>\n",
       "    </tr>\n",
       "    <tr>\n",
       "      <th>1</th>\n",
       "      <td>2.0</td>\n",
       "      <td>79.33</td>\n",
       "      <td>78.33</td>\n",
       "      <td>77.48</td>\n",
       "      <td>86.5</td>\n",
       "      <td>66.28</td>\n",
       "      <td>200000.0</td>\n",
       "      <td>M</td>\n",
       "      <td>Central</td>\n",
       "      <td>Others</td>\n",
       "      <td>Science</td>\n",
       "      <td>Sci&amp;Tech</td>\n",
       "      <td>Yes</td>\n",
       "      <td>Mkt&amp;Fin</td>\n",
       "      <td>Placed</td>\n",
       "    </tr>\n",
       "    <tr>\n",
       "      <th>2</th>\n",
       "      <td>3.0</td>\n",
       "      <td>65.00</td>\n",
       "      <td>68.00</td>\n",
       "      <td>64.00</td>\n",
       "      <td>75.0</td>\n",
       "      <td>57.80</td>\n",
       "      <td>250000.0</td>\n",
       "      <td>M</td>\n",
       "      <td>Central</td>\n",
       "      <td>Central</td>\n",
       "      <td>Arts</td>\n",
       "      <td>Comm&amp;Mgmt</td>\n",
       "      <td>No</td>\n",
       "      <td>Mkt&amp;Fin</td>\n",
       "      <td>Placed</td>\n",
       "    </tr>\n",
       "    <tr>\n",
       "      <th>3</th>\n",
       "      <td>4.0</td>\n",
       "      <td>56.00</td>\n",
       "      <td>52.00</td>\n",
       "      <td>52.00</td>\n",
       "      <td>66.0</td>\n",
       "      <td>59.43</td>\n",
       "      <td>0.0</td>\n",
       "      <td>M</td>\n",
       "      <td>Central</td>\n",
       "      <td>Central</td>\n",
       "      <td>Science</td>\n",
       "      <td>Sci&amp;Tech</td>\n",
       "      <td>No</td>\n",
       "      <td>Mkt&amp;HR</td>\n",
       "      <td>Not Placed</td>\n",
       "    </tr>\n",
       "    <tr>\n",
       "      <th>4</th>\n",
       "      <td>5.0</td>\n",
       "      <td>85.80</td>\n",
       "      <td>73.60</td>\n",
       "      <td>73.30</td>\n",
       "      <td>96.8</td>\n",
       "      <td>55.50</td>\n",
       "      <td>425000.0</td>\n",
       "      <td>M</td>\n",
       "      <td>Central</td>\n",
       "      <td>Central</td>\n",
       "      <td>Commerce</td>\n",
       "      <td>Comm&amp;Mgmt</td>\n",
       "      <td>No</td>\n",
       "      <td>Mkt&amp;Fin</td>\n",
       "      <td>Placed</td>\n",
       "    </tr>\n",
       "    <tr>\n",
       "      <th>...</th>\n",
       "      <td>...</td>\n",
       "      <td>...</td>\n",
       "      <td>...</td>\n",
       "      <td>...</td>\n",
       "      <td>...</td>\n",
       "      <td>...</td>\n",
       "      <td>...</td>\n",
       "      <td>...</td>\n",
       "      <td>...</td>\n",
       "      <td>...</td>\n",
       "      <td>...</td>\n",
       "      <td>...</td>\n",
       "      <td>...</td>\n",
       "      <td>...</td>\n",
       "      <td>...</td>\n",
       "    </tr>\n",
       "    <tr>\n",
       "      <th>210</th>\n",
       "      <td>211.0</td>\n",
       "      <td>80.60</td>\n",
       "      <td>82.00</td>\n",
       "      <td>77.60</td>\n",
       "      <td>91.0</td>\n",
       "      <td>74.49</td>\n",
       "      <td>400000.0</td>\n",
       "      <td>M</td>\n",
       "      <td>Others</td>\n",
       "      <td>Others</td>\n",
       "      <td>Commerce</td>\n",
       "      <td>Comm&amp;Mgmt</td>\n",
       "      <td>No</td>\n",
       "      <td>Mkt&amp;Fin</td>\n",
       "      <td>Placed</td>\n",
       "    </tr>\n",
       "    <tr>\n",
       "      <th>211</th>\n",
       "      <td>212.0</td>\n",
       "      <td>58.00</td>\n",
       "      <td>60.00</td>\n",
       "      <td>72.00</td>\n",
       "      <td>74.0</td>\n",
       "      <td>53.62</td>\n",
       "      <td>275000.0</td>\n",
       "      <td>M</td>\n",
       "      <td>Others</td>\n",
       "      <td>Others</td>\n",
       "      <td>Science</td>\n",
       "      <td>Sci&amp;Tech</td>\n",
       "      <td>No</td>\n",
       "      <td>Mkt&amp;Fin</td>\n",
       "      <td>Placed</td>\n",
       "    </tr>\n",
       "    <tr>\n",
       "      <th>212</th>\n",
       "      <td>213.0</td>\n",
       "      <td>67.00</td>\n",
       "      <td>67.00</td>\n",
       "      <td>73.00</td>\n",
       "      <td>59.0</td>\n",
       "      <td>69.72</td>\n",
       "      <td>295000.0</td>\n",
       "      <td>M</td>\n",
       "      <td>Others</td>\n",
       "      <td>Others</td>\n",
       "      <td>Commerce</td>\n",
       "      <td>Comm&amp;Mgmt</td>\n",
       "      <td>Yes</td>\n",
       "      <td>Mkt&amp;Fin</td>\n",
       "      <td>Placed</td>\n",
       "    </tr>\n",
       "    <tr>\n",
       "      <th>213</th>\n",
       "      <td>214.0</td>\n",
       "      <td>74.00</td>\n",
       "      <td>66.00</td>\n",
       "      <td>58.00</td>\n",
       "      <td>70.0</td>\n",
       "      <td>60.23</td>\n",
       "      <td>204000.0</td>\n",
       "      <td>F</td>\n",
       "      <td>Others</td>\n",
       "      <td>Others</td>\n",
       "      <td>Commerce</td>\n",
       "      <td>Comm&amp;Mgmt</td>\n",
       "      <td>No</td>\n",
       "      <td>Mkt&amp;HR</td>\n",
       "      <td>Placed</td>\n",
       "    </tr>\n",
       "    <tr>\n",
       "      <th>214</th>\n",
       "      <td>215.0</td>\n",
       "      <td>62.00</td>\n",
       "      <td>58.00</td>\n",
       "      <td>53.00</td>\n",
       "      <td>89.0</td>\n",
       "      <td>60.22</td>\n",
       "      <td>0.0</td>\n",
       "      <td>M</td>\n",
       "      <td>Central</td>\n",
       "      <td>Others</td>\n",
       "      <td>Science</td>\n",
       "      <td>Comm&amp;Mgmt</td>\n",
       "      <td>No</td>\n",
       "      <td>Mkt&amp;HR</td>\n",
       "      <td>Not Placed</td>\n",
       "    </tr>\n",
       "  </tbody>\n",
       "</table>\n",
       "<p>215 rows × 15 columns</p>\n",
       "</div>"
      ],
      "text/plain": [
       "     sl_no  ssc_p  hsc_p  degree_p  etest_p  mba_p    salary gender    ssc_b  \\\n",
       "0      1.0  67.00  91.00     58.00     55.0  58.80  270000.0      M   Others   \n",
       "1      2.0  79.33  78.33     77.48     86.5  66.28  200000.0      M  Central   \n",
       "2      3.0  65.00  68.00     64.00     75.0  57.80  250000.0      M  Central   \n",
       "3      4.0  56.00  52.00     52.00     66.0  59.43       0.0      M  Central   \n",
       "4      5.0  85.80  73.60     73.30     96.8  55.50  425000.0      M  Central   \n",
       "..     ...    ...    ...       ...      ...    ...       ...    ...      ...   \n",
       "210  211.0  80.60  82.00     77.60     91.0  74.49  400000.0      M   Others   \n",
       "211  212.0  58.00  60.00     72.00     74.0  53.62  275000.0      M   Others   \n",
       "212  213.0  67.00  67.00     73.00     59.0  69.72  295000.0      M   Others   \n",
       "213  214.0  74.00  66.00     58.00     70.0  60.23  204000.0      F   Others   \n",
       "214  215.0  62.00  58.00     53.00     89.0  60.22       0.0      M  Central   \n",
       "\n",
       "       hsc_b     hsc_s   degree_t workex specialisation      status  \n",
       "0     Others  Commerce   Sci&Tech     No         Mkt&HR      Placed  \n",
       "1     Others   Science   Sci&Tech    Yes        Mkt&Fin      Placed  \n",
       "2    Central      Arts  Comm&Mgmt     No        Mkt&Fin      Placed  \n",
       "3    Central   Science   Sci&Tech     No         Mkt&HR  Not Placed  \n",
       "4    Central  Commerce  Comm&Mgmt     No        Mkt&Fin      Placed  \n",
       "..       ...       ...        ...    ...            ...         ...  \n",
       "210   Others  Commerce  Comm&Mgmt     No        Mkt&Fin      Placed  \n",
       "211   Others   Science   Sci&Tech     No        Mkt&Fin      Placed  \n",
       "212   Others  Commerce  Comm&Mgmt    Yes        Mkt&Fin      Placed  \n",
       "213   Others  Commerce  Comm&Mgmt     No         Mkt&HR      Placed  \n",
       "214   Others   Science  Comm&Mgmt     No         Mkt&HR  Not Placed  \n",
       "\n",
       "[215 rows x 15 columns]"
      ]
     },
     "execution_count": 3,
     "metadata": {},
     "output_type": "execute_result"
    }
   ],
   "source": [
    "dataset"
   ]
  },
  {
   "cell_type": "markdown",
   "id": "34e65c1c-d4a5-475f-b0aa-ad1aca96373a",
   "metadata": {},
   "source": [
    "Independent-- Unpaired ttest\n",
    "Different group(male,female) but same condition(salary)"
   ]
  },
  {
   "cell_type": "code",
   "execution_count": 4,
   "id": "7fe25fcf-9e48-4824-9b96-c2e78302ec9d",
   "metadata": {},
   "outputs": [
    {
     "data": {
      "text/plain": [
       "TtestResult(statistic=2.1103433958668765, pvalue=0.03599560646745178, df=213.0)"
      ]
     },
     "execution_count": 4,
     "metadata": {},
     "output_type": "execute_result"
    }
   ],
   "source": [
    "from scipy.stats import ttest_ind\n",
    "dataset=dataset.dropna()\n",
    "male=dataset[dataset['gender']=='M']['salary']\n",
    "female=dataset[dataset['gender']=='F']['salary']\n",
    "ttest_ind(male,female)"
   ]
  },
  {
   "cell_type": "code",
   "execution_count": 5,
   "id": "614510bc-9a3c-4a70-a05f-8e9d2a3add0b",
   "metadata": {},
   "outputs": [
    {
     "data": {
      "text/plain": [
       "TtestResult(statistic=-0.505185285363673, pvalue=0.6139510180995318, df=213.0)"
      ]
     },
     "execution_count": 5,
     "metadata": {},
     "output_type": "execute_result"
    }
   ],
   "source": [
    "from scipy.stats import ttest_ind\n",
    "dataset=dataset.dropna()\n",
    "Central=dataset[dataset['ssc_b']=='Central']['salary']\n",
    "Others=dataset[dataset['ssc_b']=='Others']['salary']\n",
    "ttest_ind(Central,Others)"
   ]
  },
  {
   "cell_type": "markdown",
   "id": "4ab021db-158b-44cc-a8da-0ae767e11f26",
   "metadata": {},
   "source": [
    "Dependent--paired Ttest\n",
    "Group is same(commerce) but condition is different(etest_p,mba_p) Group is same(male)but condition is different(ssc_p,hsc_p)"
   ]
  },
  {
   "cell_type": "code",
   "execution_count": 6,
   "id": "286a1c4f-efc1-4690-b345-0886f49f6033",
   "metadata": {},
   "outputs": [
    {
     "data": {
      "text/plain": [
       "TtestResult(statistic=0.6852881050898076, pvalue=0.49431164600731514, df=138)"
      ]
     },
     "execution_count": 6,
     "metadata": {},
     "output_type": "execute_result"
    }
   ],
   "source": [
    "from scipy.stats import ttest_rel\n",
    "#dataset=dataset.dropna()\n",
    "male=dataset[dataset['gender']=='M']['ssc_p']\n",
    "male1=dataset[dataset['gender']=='M']['hsc_p']\n",
    "ttest_rel(male,male1)"
   ]
  },
  {
   "cell_type": "code",
   "execution_count": 7,
   "id": "5b3ee0e2-e889-4256-b24e-8a376a4971db",
   "metadata": {},
   "outputs": [
    {
     "data": {
      "text/plain": [
       "TtestResult(statistic=7.868552092606871, pvalue=2.462926468454984e-12, df=112)"
      ]
     },
     "execution_count": 7,
     "metadata": {},
     "output_type": "execute_result"
    }
   ],
   "source": [
    "from scipy.stats import ttest_rel\n",
    "#dataset=dataset.dropna()\n",
    "commerce=dataset[dataset['hsc_s']=='Commerce']['etest_p']\n",
    "commerce1=dataset[dataset['hsc_s']=='Commerce']['mba_p']\n",
    "ttest_rel(commerce,commerce1)"
   ]
  },
  {
   "cell_type": "markdown",
   "id": "852f7a1a-79c4-4608-838d-3333bfac5800",
   "metadata": {},
   "source": [
    "Lesser the statistic value higher the similarity; pvalue should be less than five percentage; so in this case gender and salary of both male and female shows high similarity"
   ]
  },
  {
   "cell_type": "code",
   "execution_count": null,
   "id": "0633a544-6b5a-419a-95c0-774c2b65ed2e",
   "metadata": {},
   "outputs": [],
   "source": []
  }
 ],
 "metadata": {
  "kernelspec": {
   "display_name": "Python 3 (ipykernel)",
   "language": "python",
   "name": "python3"
  },
  "language_info": {
   "codemirror_mode": {
    "name": "ipython",
    "version": 3
   },
   "file_extension": ".py",
   "mimetype": "text/x-python",
   "name": "python",
   "nbconvert_exporter": "python",
   "pygments_lexer": "ipython3",
   "version": "3.11.5"
  }
 },
 "nbformat": 4,
 "nbformat_minor": 5
}
