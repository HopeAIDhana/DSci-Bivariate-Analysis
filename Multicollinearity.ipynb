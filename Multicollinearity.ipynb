{
 "cells": [
  {
   "cell_type": "code",
   "execution_count": null,
   "id": "a6685798-9f76-4c70-aa52-0da6f4557851",
   "metadata": {},
   "outputs": [],
   "source": [
    "import pandas as pd"
   ]
  },
  {
   "cell_type": "code",
   "execution_count": null,
   "id": "da1d9d5b-34a1-49e0-afa0-4cb6c08415f3",
   "metadata": {},
   "outputs": [],
   "source": [
    "dataset=pd.read_csv(\"preplacement.csv\")"
   ]
  },
  {
   "cell_type": "code",
   "execution_count": null,
   "id": "187c8a19-789b-42f3-a0c5-2f0c9cbee22e",
   "metadata": {},
   "outputs": [],
   "source": [
    "dataset"
   ]
  },
  {
   "cell_type": "code",
   "execution_count": null,
   "id": "ce87ee90-871d-4517-8c5a-e642e0fc055d",
   "metadata": {},
   "outputs": [],
   "source": [
    "dataset.isnull().sum()"
   ]
  },
  {
   "cell_type": "code",
   "execution_count": null,
   "id": "8f8bd1a3-f1bf-4f1f-a09c-50ef24f14892",
   "metadata": {},
   "outputs": [],
   "source": [
    "dataset.cov(numeric_only= True)"
   ]
  },
  {
   "cell_type": "code",
   "execution_count": null,
   "id": "7ce195a8-31df-4ae9-9550-cacf2d01b83c",
   "metadata": {},
   "outputs": [],
   "source": [
    "dataset.corr(numeric_only=True)"
   ]
  },
  {
   "cell_type": "code",
   "execution_count": null,
   "id": "8ec0a887-78f4-43c7-96e5-061fd702c757",
   "metadata": {},
   "outputs": [],
   "source": [
    "dataset.drop('sl_no',inplace=True,axis=1)"
   ]
  },
  {
   "cell_type": "code",
   "execution_count": null,
   "id": "8827cf89-23c6-4aff-b103-4d0842a382d6",
   "metadata": {},
   "outputs": [],
   "source": [
    "dataset"
   ]
  },
  {
   "cell_type": "code",
   "execution_count": null,
   "id": "2d1debab-b626-4118-83dc-d3c58c32318e",
   "metadata": {},
   "outputs": [],
   "source": [
    "import seaborn as sns"
   ]
  },
  {
   "cell_type": "code",
   "execution_count": null,
   "id": "9e4fbbdd-88df-44e2-8406-447454ed95d2",
   "metadata": {},
   "outputs": [],
   "source": [
    "sns.pairplot(dataset)"
   ]
  },
  {
   "cell_type": "code",
   "execution_count": null,
   "id": "8b5b5ace-549f-4b73-a429-f9491e0beb91",
   "metadata": {},
   "outputs": [],
   "source": [
    "from statsmodels.stats.outliers_influence import variance_inflation_factor\n",
    "\n",
    "def calc_vif(X):\n",
    "    vif=pd.DataFrame()\n",
    "    vif[\"variables\"]=X.columns\n",
    "    vif[\"VIF\"]=[variance_inflation_factor(X.values,i) for i in range(X.shape[1])]\n",
    "    return (vif)"
   ]
  },
  {
   "cell_type": "markdown",
   "id": "8057eeb3-e1a5-410b-a5d7-b47615a39016",
   "metadata": {},
   "source": [
    "import variance inflation factor from statsmodels.stats.outliers_influence define function by passing X as parameter defining table using pandas dataframe assigning x columns values to table index 'variables' vif[\"VIF\"]=[variance_inflation_factor(X.values,i) for i in range(X.shape[1])] // in this line shape[1] represents number of columns and rows in X range(X.shape[1]) covers all the rows and columns for i in range(X.shape[1]) using for loop we can access all rows and columns one by one variance_inflation_factor(X.values,i) finding vif for i as x.values one by one column wise and finally assigning the result to table index vif[\"VIF\"]"
   ]
  },
  {
   "cell_type": "code",
   "execution_count": null,
   "id": "0edf7b21-1a16-4a4e-8efe-abf99ce60456",
   "metadata": {},
   "outputs": [],
   "source": [
    " def quanQual(dataset):\n",
    "        quan=[]\n",
    "        qual=[]\n",
    "        for columnName in dataset.columns:\n",
    "            #print(columnName)\n",
    "            if(dataset[columnName].dtypes=='O'):\n",
    "                #print(\"qual\")\n",
    "                qual.append(columnName)\n",
    "            else:\n",
    "                #print(\"quan\")\n",
    "                quan.append(columnName)\n",
    "        return quan,qual\n"
   ]
  },
  {
   "cell_type": "code",
   "execution_count": null,
   "id": "86780dd2-90c1-46e1-a0c0-0474148d553f",
   "metadata": {},
   "outputs": [],
   "source": [
    "quan,qual=quanQual(dataset)\n"
   ]
  },
  {
   "cell_type": "code",
   "execution_count": null,
   "id": "0a6e514b-3be5-49e1-9c4e-e7bc7357a613",
   "metadata": {},
   "outputs": [],
   "source": [
    "calc_vif(dataset[quan])"
   ]
  },
  {
   "cell_type": "code",
   "execution_count": null,
   "id": "6557e405-b106-4e06-921a-265fb2c3ff43",
   "metadata": {},
   "outputs": [],
   "source": [
    "calc_vif(dataset[[\"ssc_p\",\"salary\"]])"
   ]
  },
  {
   "cell_type": "markdown",
   "id": "41f8260d-a805-4e30-8450-546b7efd1d00",
   "metadata": {},
   "source": [
    "detect multicollinearity using correlation matrix and heat map"
   ]
  },
  {
   "cell_type": "code",
   "execution_count": null,
   "id": "ecd10111-68ad-4240-af1a-4fd6fc8d9458",
   "metadata": {},
   "outputs": [],
   "source": [
    "import seaborn as sns\n",
    "import matplotlib.pyplot as plt"
   ]
  },
  {
   "cell_type": "code",
   "execution_count": null,
   "id": "7743b97b-b114-4b3c-af6b-6c44ee57fa19",
   "metadata": {},
   "outputs": [],
   "source": [
    "corr_matrix = dataset.corr(numeric_only=True)"
   ]
  },
  {
   "cell_type": "code",
   "execution_count": null,
   "id": "fbcab0b8-b383-4c9b-9db5-ca0235a25660",
   "metadata": {},
   "outputs": [],
   "source": [
    "corr_matrix"
   ]
  },
  {
   "cell_type": "code",
   "execution_count": null,
   "id": "313c1470-c95a-47b1-bf4f-55e33282a770",
   "metadata": {},
   "outputs": [],
   "source": [
    "#Plot the correlation matrix as a heatmap\n",
    "plt.figure(figsize=(6, 4))\n",
    "sns.heatmap(corr_matrix, annot=True, cmap='coolwarm', fmt=\".2f\", linewidths=0.5)\n",
    "plt.title('Correlation Matrix')\n",
    "plt.show()"
   ]
  },
  {
   "cell_type": "code",
   "execution_count": null,
   "id": "4e14c45d-9332-4b2d-bab1-9c94b69046b4",
   "metadata": {},
   "outputs": [],
   "source": [
    "# Plot scatter plots for highly correlated pairs\n",
    "sns.pairplot(dataset, diag_kind='kde')\n",
    "plt.suptitle(\"Pairwise Scatter Plots\", y=1.02)\n",
    "plt.show()\n"
   ]
  },
  {
   "cell_type": "code",
   "execution_count": null,
   "id": "8c28525b-6668-4751-9689-0c125d30d56d",
   "metadata": {},
   "outputs": [],
   "source": []
  },
  {
   "cell_type": "code",
   "execution_count": null,
   "id": "5b951cb4-207d-478f-86b3-be45c690f608",
   "metadata": {},
   "outputs": [],
   "source": []
  },
  {
   "cell_type": "code",
   "execution_count": null,
   "id": "1cf364dd-f49b-4672-b6c0-c7bcd8746031",
   "metadata": {},
   "outputs": [],
   "source": []
  },
  {
   "cell_type": "code",
   "execution_count": null,
   "id": "bea024d3-48ea-46d5-b22a-69302a1a960d",
   "metadata": {},
   "outputs": [],
   "source": []
  }
 ],
 "metadata": {
  "kernelspec": {
   "display_name": "Python 3 (ipykernel)",
   "language": "python",
   "name": "python3"
  },
  "language_info": {
   "codemirror_mode": {
    "name": "ipython",
    "version": 3
   },
   "file_extension": ".py",
   "mimetype": "text/x-python",
   "name": "python",
   "nbconvert_exporter": "python",
   "pygments_lexer": "ipython3",
   "version": "3.11.5"
  }
 },
 "nbformat": 4,
 "nbformat_minor": 5
}
