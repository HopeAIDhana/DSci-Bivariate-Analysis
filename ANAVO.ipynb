{
 "cells": [
  {
   "cell_type": "code",
   "execution_count": 1,
   "id": "a6685798-9f76-4c70-aa52-0da6f4557851",
   "metadata": {},
   "outputs": [],
   "source": [
    "import pandas as pd"
   ]
  },
  {
   "cell_type": "code",
   "execution_count": 2,
   "id": "da1d9d5b-34a1-49e0-afa0-4cb6c08415f3",
   "metadata": {},
   "outputs": [],
   "source": [
    "dataset=pd.read_csv(\"preplacement.csv\")"
   ]
  },
  {
   "cell_type": "code",
   "execution_count": 3,
   "id": "187c8a19-789b-42f3-a0c5-2f0c9cbee22e",
   "metadata": {},
   "outputs": [
    {
     "data": {
      "text/html": [
       "<div>\n",
       "<style scoped>\n",
       "    .dataframe tbody tr th:only-of-type {\n",
       "        vertical-align: middle;\n",
       "    }\n",
       "\n",
       "    .dataframe tbody tr th {\n",
       "        vertical-align: top;\n",
       "    }\n",
       "\n",
       "    .dataframe thead th {\n",
       "        text-align: right;\n",
       "    }\n",
       "</style>\n",
       "<table border=\"1\" class=\"dataframe\">\n",
       "  <thead>\n",
       "    <tr style=\"text-align: right;\">\n",
       "      <th></th>\n",
       "      <th>sl_no</th>\n",
       "      <th>ssc_p</th>\n",
       "      <th>hsc_p</th>\n",
       "      <th>degree_p</th>\n",
       "      <th>etest_p</th>\n",
       "      <th>mba_p</th>\n",
       "      <th>salary</th>\n",
       "      <th>gender</th>\n",
       "      <th>ssc_b</th>\n",
       "      <th>hsc_b</th>\n",
       "      <th>hsc_s</th>\n",
       "      <th>degree_t</th>\n",
       "      <th>workex</th>\n",
       "      <th>specialisation</th>\n",
       "      <th>status</th>\n",
       "    </tr>\n",
       "  </thead>\n",
       "  <tbody>\n",
       "    <tr>\n",
       "      <th>0</th>\n",
       "      <td>1.0</td>\n",
       "      <td>67.00</td>\n",
       "      <td>91.00</td>\n",
       "      <td>58.00</td>\n",
       "      <td>55.0</td>\n",
       "      <td>58.80</td>\n",
       "      <td>270000.0</td>\n",
       "      <td>M</td>\n",
       "      <td>Others</td>\n",
       "      <td>Others</td>\n",
       "      <td>Commerce</td>\n",
       "      <td>Sci&amp;Tech</td>\n",
       "      <td>No</td>\n",
       "      <td>Mkt&amp;HR</td>\n",
       "      <td>Placed</td>\n",
       "    </tr>\n",
       "    <tr>\n",
       "      <th>1</th>\n",
       "      <td>2.0</td>\n",
       "      <td>79.33</td>\n",
       "      <td>78.33</td>\n",
       "      <td>77.48</td>\n",
       "      <td>86.5</td>\n",
       "      <td>66.28</td>\n",
       "      <td>200000.0</td>\n",
       "      <td>M</td>\n",
       "      <td>Central</td>\n",
       "      <td>Others</td>\n",
       "      <td>Science</td>\n",
       "      <td>Sci&amp;Tech</td>\n",
       "      <td>Yes</td>\n",
       "      <td>Mkt&amp;Fin</td>\n",
       "      <td>Placed</td>\n",
       "    </tr>\n",
       "    <tr>\n",
       "      <th>2</th>\n",
       "      <td>3.0</td>\n",
       "      <td>65.00</td>\n",
       "      <td>68.00</td>\n",
       "      <td>64.00</td>\n",
       "      <td>75.0</td>\n",
       "      <td>57.80</td>\n",
       "      <td>250000.0</td>\n",
       "      <td>M</td>\n",
       "      <td>Central</td>\n",
       "      <td>Central</td>\n",
       "      <td>Arts</td>\n",
       "      <td>Comm&amp;Mgmt</td>\n",
       "      <td>No</td>\n",
       "      <td>Mkt&amp;Fin</td>\n",
       "      <td>Placed</td>\n",
       "    </tr>\n",
       "    <tr>\n",
       "      <th>3</th>\n",
       "      <td>4.0</td>\n",
       "      <td>56.00</td>\n",
       "      <td>52.00</td>\n",
       "      <td>52.00</td>\n",
       "      <td>66.0</td>\n",
       "      <td>59.43</td>\n",
       "      <td>0.0</td>\n",
       "      <td>M</td>\n",
       "      <td>Central</td>\n",
       "      <td>Central</td>\n",
       "      <td>Science</td>\n",
       "      <td>Sci&amp;Tech</td>\n",
       "      <td>No</td>\n",
       "      <td>Mkt&amp;HR</td>\n",
       "      <td>Not Placed</td>\n",
       "    </tr>\n",
       "    <tr>\n",
       "      <th>4</th>\n",
       "      <td>5.0</td>\n",
       "      <td>85.80</td>\n",
       "      <td>73.60</td>\n",
       "      <td>73.30</td>\n",
       "      <td>96.8</td>\n",
       "      <td>55.50</td>\n",
       "      <td>425000.0</td>\n",
       "      <td>M</td>\n",
       "      <td>Central</td>\n",
       "      <td>Central</td>\n",
       "      <td>Commerce</td>\n",
       "      <td>Comm&amp;Mgmt</td>\n",
       "      <td>No</td>\n",
       "      <td>Mkt&amp;Fin</td>\n",
       "      <td>Placed</td>\n",
       "    </tr>\n",
       "    <tr>\n",
       "      <th>...</th>\n",
       "      <td>...</td>\n",
       "      <td>...</td>\n",
       "      <td>...</td>\n",
       "      <td>...</td>\n",
       "      <td>...</td>\n",
       "      <td>...</td>\n",
       "      <td>...</td>\n",
       "      <td>...</td>\n",
       "      <td>...</td>\n",
       "      <td>...</td>\n",
       "      <td>...</td>\n",
       "      <td>...</td>\n",
       "      <td>...</td>\n",
       "      <td>...</td>\n",
       "      <td>...</td>\n",
       "    </tr>\n",
       "    <tr>\n",
       "      <th>210</th>\n",
       "      <td>211.0</td>\n",
       "      <td>80.60</td>\n",
       "      <td>82.00</td>\n",
       "      <td>77.60</td>\n",
       "      <td>91.0</td>\n",
       "      <td>74.49</td>\n",
       "      <td>400000.0</td>\n",
       "      <td>M</td>\n",
       "      <td>Others</td>\n",
       "      <td>Others</td>\n",
       "      <td>Commerce</td>\n",
       "      <td>Comm&amp;Mgmt</td>\n",
       "      <td>No</td>\n",
       "      <td>Mkt&amp;Fin</td>\n",
       "      <td>Placed</td>\n",
       "    </tr>\n",
       "    <tr>\n",
       "      <th>211</th>\n",
       "      <td>212.0</td>\n",
       "      <td>58.00</td>\n",
       "      <td>60.00</td>\n",
       "      <td>72.00</td>\n",
       "      <td>74.0</td>\n",
       "      <td>53.62</td>\n",
       "      <td>275000.0</td>\n",
       "      <td>M</td>\n",
       "      <td>Others</td>\n",
       "      <td>Others</td>\n",
       "      <td>Science</td>\n",
       "      <td>Sci&amp;Tech</td>\n",
       "      <td>No</td>\n",
       "      <td>Mkt&amp;Fin</td>\n",
       "      <td>Placed</td>\n",
       "    </tr>\n",
       "    <tr>\n",
       "      <th>212</th>\n",
       "      <td>213.0</td>\n",
       "      <td>67.00</td>\n",
       "      <td>67.00</td>\n",
       "      <td>73.00</td>\n",
       "      <td>59.0</td>\n",
       "      <td>69.72</td>\n",
       "      <td>295000.0</td>\n",
       "      <td>M</td>\n",
       "      <td>Others</td>\n",
       "      <td>Others</td>\n",
       "      <td>Commerce</td>\n",
       "      <td>Comm&amp;Mgmt</td>\n",
       "      <td>Yes</td>\n",
       "      <td>Mkt&amp;Fin</td>\n",
       "      <td>Placed</td>\n",
       "    </tr>\n",
       "    <tr>\n",
       "      <th>213</th>\n",
       "      <td>214.0</td>\n",
       "      <td>74.00</td>\n",
       "      <td>66.00</td>\n",
       "      <td>58.00</td>\n",
       "      <td>70.0</td>\n",
       "      <td>60.23</td>\n",
       "      <td>204000.0</td>\n",
       "      <td>F</td>\n",
       "      <td>Others</td>\n",
       "      <td>Others</td>\n",
       "      <td>Commerce</td>\n",
       "      <td>Comm&amp;Mgmt</td>\n",
       "      <td>No</td>\n",
       "      <td>Mkt&amp;HR</td>\n",
       "      <td>Placed</td>\n",
       "    </tr>\n",
       "    <tr>\n",
       "      <th>214</th>\n",
       "      <td>215.0</td>\n",
       "      <td>62.00</td>\n",
       "      <td>58.00</td>\n",
       "      <td>53.00</td>\n",
       "      <td>89.0</td>\n",
       "      <td>60.22</td>\n",
       "      <td>0.0</td>\n",
       "      <td>M</td>\n",
       "      <td>Central</td>\n",
       "      <td>Others</td>\n",
       "      <td>Science</td>\n",
       "      <td>Comm&amp;Mgmt</td>\n",
       "      <td>No</td>\n",
       "      <td>Mkt&amp;HR</td>\n",
       "      <td>Not Placed</td>\n",
       "    </tr>\n",
       "  </tbody>\n",
       "</table>\n",
       "<p>215 rows × 15 columns</p>\n",
       "</div>"
      ],
      "text/plain": [
       "     sl_no  ssc_p  hsc_p  degree_p  etest_p  mba_p    salary gender    ssc_b  \\\n",
       "0      1.0  67.00  91.00     58.00     55.0  58.80  270000.0      M   Others   \n",
       "1      2.0  79.33  78.33     77.48     86.5  66.28  200000.0      M  Central   \n",
       "2      3.0  65.00  68.00     64.00     75.0  57.80  250000.0      M  Central   \n",
       "3      4.0  56.00  52.00     52.00     66.0  59.43       0.0      M  Central   \n",
       "4      5.0  85.80  73.60     73.30     96.8  55.50  425000.0      M  Central   \n",
       "..     ...    ...    ...       ...      ...    ...       ...    ...      ...   \n",
       "210  211.0  80.60  82.00     77.60     91.0  74.49  400000.0      M   Others   \n",
       "211  212.0  58.00  60.00     72.00     74.0  53.62  275000.0      M   Others   \n",
       "212  213.0  67.00  67.00     73.00     59.0  69.72  295000.0      M   Others   \n",
       "213  214.0  74.00  66.00     58.00     70.0  60.23  204000.0      F   Others   \n",
       "214  215.0  62.00  58.00     53.00     89.0  60.22       0.0      M  Central   \n",
       "\n",
       "       hsc_b     hsc_s   degree_t workex specialisation      status  \n",
       "0     Others  Commerce   Sci&Tech     No         Mkt&HR      Placed  \n",
       "1     Others   Science   Sci&Tech    Yes        Mkt&Fin      Placed  \n",
       "2    Central      Arts  Comm&Mgmt     No        Mkt&Fin      Placed  \n",
       "3    Central   Science   Sci&Tech     No         Mkt&HR  Not Placed  \n",
       "4    Central  Commerce  Comm&Mgmt     No        Mkt&Fin      Placed  \n",
       "..       ...       ...        ...    ...            ...         ...  \n",
       "210   Others  Commerce  Comm&Mgmt     No        Mkt&Fin      Placed  \n",
       "211   Others   Science   Sci&Tech     No        Mkt&Fin      Placed  \n",
       "212   Others  Commerce  Comm&Mgmt    Yes        Mkt&Fin      Placed  \n",
       "213   Others  Commerce  Comm&Mgmt     No         Mkt&HR      Placed  \n",
       "214   Others   Science  Comm&Mgmt     No         Mkt&HR  Not Placed  \n",
       "\n",
       "[215 rows x 15 columns]"
      ]
     },
     "execution_count": 3,
     "metadata": {},
     "output_type": "execute_result"
    }
   ],
   "source": [
    "dataset"
   ]
  },
  {
   "cell_type": "markdown",
   "id": "ed812b24-5ab9-4991-8d0f-7127831bfadc",
   "metadata": {},
   "source": [
    "# Independant -- Unpaired Ttest"
   ]
  },
  {
   "cell_type": "markdown",
   "id": "ce49fe6d-dc0a-4203-ba3f-099a3a6b0ead",
   "metadata": {},
   "source": [
    "# Different Group (Male , Female) But the Condition is same (Salary)"
   ]
  },
  {
   "cell_type": "code",
   "execution_count": 4,
   "id": "7fe25fcf-9e48-4824-9b96-c2e78302ec9d",
   "metadata": {},
   "outputs": [
    {
     "data": {
      "text/plain": [
       "TtestResult(statistic=2.1103433958668765, pvalue=0.03599560646745178, df=213.0)"
      ]
     },
     "execution_count": 4,
     "metadata": {},
     "output_type": "execute_result"
    }
   ],
   "source": [
    "from scipy.stats import ttest_ind\n",
    "dataset=dataset.dropna()\n",
    "male=dataset[dataset['gender']=='M']['salary']\n",
    "female=dataset[dataset['gender']=='F']['salary']\n",
    "ttest_ind(male,female)"
   ]
  },
  {
   "cell_type": "code",
   "execution_count": 5,
   "id": "614510bc-9a3c-4a70-a05f-8e9d2a3add0b",
   "metadata": {},
   "outputs": [
    {
     "data": {
      "text/plain": [
       "TtestResult(statistic=-0.505185285363673, pvalue=0.6139510180995318, df=213.0)"
      ]
     },
     "execution_count": 5,
     "metadata": {},
     "output_type": "execute_result"
    }
   ],
   "source": [
    "from scipy.stats import ttest_ind\n",
    "dataset=dataset.dropna()\n",
    "Central=dataset[dataset['ssc_b']=='Central']['salary']\n",
    "Others=dataset[dataset['ssc_b']=='Others']['salary']\n",
    "ttest_ind(Central,Others)"
   ]
  },
  {
   "cell_type": "markdown",
   "id": "cf280014-faaa-4e24-90ed-2634b619f235",
   "metadata": {},
   "source": [
    "# Dependent -- Paired Ttest"
   ]
  },
  {
   "cell_type": "markdown",
   "id": "3f30af35-8d54-4c89-9375-cc5001d0460d",
   "metadata": {},
   "source": [
    "# Same Group(Commerce) But Condition is Different(etest_p,mba_p)\n",
    "Same Group(Male) But Condition is Different(ssc_p, hsc_p)"
   ]
  },
  {
   "cell_type": "code",
   "execution_count": 6,
   "id": "286a1c4f-efc1-4690-b345-0886f49f6033",
   "metadata": {},
   "outputs": [
    {
     "data": {
      "text/plain": [
       "TtestResult(statistic=0.6852881050898076, pvalue=0.49431164600731514, df=138)"
      ]
     },
     "execution_count": 6,
     "metadata": {},
     "output_type": "execute_result"
    }
   ],
   "source": [
    "from scipy.stats import ttest_rel\n",
    "#dataset=dataset.dropna()\n",
    "male=dataset[dataset['gender']=='M']['ssc_p']\n",
    "male1=dataset[dataset['gender']=='M']['hsc_p']\n",
    "ttest_rel(male,male1)"
   ]
  },
  {
   "cell_type": "code",
   "execution_count": 7,
   "id": "5b3ee0e2-e889-4256-b24e-8a376a4971db",
   "metadata": {},
   "outputs": [
    {
     "data": {
      "text/plain": [
       "TtestResult(statistic=7.868552092606871, pvalue=2.462926468454984e-12, df=112)"
      ]
     },
     "execution_count": 7,
     "metadata": {},
     "output_type": "execute_result"
    }
   ],
   "source": [
    "from scipy.stats import ttest_rel\n",
    "#dataset=dataset.dropna()\n",
    "commerce=dataset[dataset['hsc_s']=='Commerce']['etest_p']\n",
    "commerce1=dataset[dataset['hsc_s']=='Commerce']['mba_p']\n",
    "ttest_rel(commerce,commerce1)"
   ]
  },
  {
   "cell_type": "markdown",
   "id": "ef16da04-2be5-47fe-8e9f-fadbd9ad1210",
   "metadata": {},
   "source": [
    "# Lesser the static value higher the similarity; pvalue should be less than 5%; so here, gender and salary of both male and female shows high similarity"
   ]
  },
  {
   "cell_type": "markdown",
   "id": "f346fc07-6a76-4bd4-88b1-ad7ddd093472",
   "metadata": {},
   "source": [
    "# Hypothesis Testing"
   ]
  },
  {
   "cell_type": "markdown",
   "id": "25a9f401-da9a-4336-9f7a-de5ccdf31993",
   "metadata": {},
   "source": [
    "# statement - Test whether ssc_p of male and hsc_p of male are same?"
   ]
  },
  {
   "cell_type": "markdown",
   "id": "8b8d6eed-1524-46ae-b663-3eb31365b134",
   "metadata": {},
   "source": [
    "# Null Hypothesis - There is no similarity between 10th pass mark and 12th pass mark of male"
   ]
  },
  {
   "cell_type": "markdown",
   "id": "8dc81474-5d2d-423a-9373-68554316c4d9",
   "metadata": {},
   "source": [
    "# Reject Null Hypothesis when p<0.05 and accept alternate hypothesis"
   ]
  },
  {
   "cell_type": "markdown",
   "id": "31a344cd-5a44-4e96-8b2d-52e735e3f878",
   "metadata": {},
   "source": [
    "# Accept Null Hypothesis when p>0.05"
   ]
  },
  {
   "cell_type": "code",
   "execution_count": 8,
   "id": "98f04787-ab67-4b22-8caf-a6e1695890e7",
   "metadata": {},
   "outputs": [
    {
     "data": {
      "text/plain": [
       "TtestResult(statistic=0.6852881050898076, pvalue=0.49431164600731514, df=138)"
      ]
     },
     "execution_count": 8,
     "metadata": {},
     "output_type": "execute_result"
    }
   ],
   "source": [
    "from scipy.stats import ttest_rel\n",
    "#dataset=dataset.dropna()\n",
    "male=dataset[dataset['gender']=='M']['ssc_p']\n",
    "male1=dataset[dataset['gender']=='M']['hsc_p']\n",
    "ttest_rel(male,male1)"
   ]
  },
  {
   "cell_type": "markdown",
   "id": "d70ed43a-1931-4ce2-a1ac-aa08076dc1e1",
   "metadata": {},
   "source": [
    "# Result = p > 0.05. This is Null Hypothesis"
   ]
  },
  {
   "cell_type": "markdown",
   "id": "d9bf0b37-38dd-4d85-8214-56128699d7bb",
   "metadata": {},
   "source": [
    "# ANAVO - Analysis of Variance"
   ]
  },
  {
   "cell_type": "code",
   "execution_count": 9,
   "id": "bc304eae-67a8-44f5-ad1a-359d06f93438",
   "metadata": {},
   "outputs": [
    {
     "data": {
      "text/plain": [
       "F_onewayResult(statistic=0.6719700864663097, pvalue=0.5110602818995302)"
      ]
     },
     "execution_count": 9,
     "metadata": {},
     "output_type": "execute_result"
    }
   ],
   "source": [
    "#One independent variable\n",
    "import scipy.stats as stats\n",
    "stats.f_oneway(dataset['ssc_p'],dataset['hsc_p'],dataset['degree_p'])\n"
   ]
  },
  {
   "cell_type": "markdown",
   "id": "cd5bca39-11ad-46f0-a8cb-b668102c221a",
   "metadata": {},
   "source": [
    "#H0- Null Hypothesis - There is no significant difference between these columns H1- Alternate Hypothesis - There is significant difference between these columns"
   ]
  },
  {
   "cell_type": "markdown",
   "id": "48291c05-558e-4edc-8a16-c37c278cf3f4",
   "metadata": {},
   "source": [
    "# Reject Null hypothesis when p<0.05 and accept alternate hypothesis"
   ]
  },
  {
   "cell_type": "markdown",
   "id": "4487139b-ad0c-4d70-8667-ba3256e25ca2",
   "metadata": {},
   "source": [
    "# Accept Null hypothesis when p>0.05"
   ]
  },
  {
   "cell_type": "markdown",
   "id": "4aee42e3-3621-4080-b13a-92d56b0707d3",
   "metadata": {},
   "source": [
    "# Accepting Null hypothesis H0 because p>0.05"
   ]
  },
  {
   "cell_type": "code",
   "execution_count": 10,
   "id": "cfa55b35-298f-425c-a397-bcd462401ba7",
   "metadata": {},
   "outputs": [
    {
     "name": "stderr",
     "output_type": "stream",
     "text": [
      "C:\\Users\\bammi\\.conda\\envs\\mldl\\Lib\\site-packages\\statsmodels\\base\\model.py:1894: ValueWarning: covariance of constraints does not have full rank. The number of constraints is 204, but rank is 45\n",
      "  warnings.warn('covariance of constraints does not have full '\n",
      "C:\\Users\\bammi\\.conda\\envs\\mldl\\Lib\\site-packages\\statsmodels\\base\\model.py:1894: ValueWarning: covariance of constraints does not have full rank. The number of constraints is 204, but rank is 132\n",
      "  warnings.warn('covariance of constraints does not have full '\n"
     ]
    }
   ],
   "source": [
    "#two independent variable\n",
    "\n",
    "import statsmodels.api as sm\n",
    "from statsmodels.formula.api import ols\n",
    "\n",
    "\n",
    "# Fit the model\n",
    "model = ols('salary ~ C(gender) + C(mba_p) + C(gender):C(mba_p)', data=dataset).fit() #ols is ordinary least square  \n",
    "#ols is a function of statsmodels.formula.api is used to fit linear regression model to data using ols estimation.\n",
    "\n",
    "# Perform two-way ANOVA\n",
    "anova_table = sm.stats.anova_lm(model, typ=2) # to perform the two-way ANOVA and store the results in anova_table"
   ]
  },
  {
   "cell_type": "markdown",
   "id": "1e616e33-6ae2-41d8-9a38-13151118f7cf",
   "metadata": {},
   "source": [
    "#Accepting Null hypothesis H0 because p>0.05 i.e (pR(>F)) for two independent variable interaction"
   ]
  },
  {
   "cell_type": "code",
   "execution_count": 11,
   "id": "1c44a4f9-ca00-4f77-8ba3-6da455209ac0",
   "metadata": {},
   "outputs": [
    {
     "data": {
      "text/html": [
       "<div>\n",
       "<style scoped>\n",
       "    .dataframe tbody tr th:only-of-type {\n",
       "        vertical-align: middle;\n",
       "    }\n",
       "\n",
       "    .dataframe tbody tr th {\n",
       "        vertical-align: top;\n",
       "    }\n",
       "\n",
       "    .dataframe thead th {\n",
       "        text-align: right;\n",
       "    }\n",
       "</style>\n",
       "<table border=\"1\" class=\"dataframe\">\n",
       "  <thead>\n",
       "    <tr style=\"text-align: right;\">\n",
       "      <th></th>\n",
       "      <th>sum_sq</th>\n",
       "      <th>df</th>\n",
       "      <th>F</th>\n",
       "      <th>PR(&gt;F)</th>\n",
       "    </tr>\n",
       "  </thead>\n",
       "  <tbody>\n",
       "    <tr>\n",
       "      <th>C(gender)</th>\n",
       "      <td>8.309428e+09</td>\n",
       "      <td>1.0</td>\n",
       "      <td>0.349145</td>\n",
       "      <td>0.573173</td>\n",
       "    </tr>\n",
       "    <tr>\n",
       "      <th>C(mba_p)</th>\n",
       "      <td>5.586646e+12</td>\n",
       "      <td>204.0</td>\n",
       "      <td>1.150683</td>\n",
       "      <td>0.461937</td>\n",
       "    </tr>\n",
       "    <tr>\n",
       "      <th>C(gender):C(mba_p)</th>\n",
       "      <td>5.189954e+12</td>\n",
       "      <td>204.0</td>\n",
       "      <td>1.068976</td>\n",
       "      <td>0.518493</td>\n",
       "    </tr>\n",
       "    <tr>\n",
       "      <th>Residual</th>\n",
       "      <td>1.665955e+11</td>\n",
       "      <td>7.0</td>\n",
       "      <td>NaN</td>\n",
       "      <td>NaN</td>\n",
       "    </tr>\n",
       "  </tbody>\n",
       "</table>\n",
       "</div>"
      ],
      "text/plain": [
       "                          sum_sq     df         F    PR(>F)\n",
       "C(gender)           8.309428e+09    1.0  0.349145  0.573173\n",
       "C(mba_p)            5.586646e+12  204.0  1.150683  0.461937\n",
       "C(gender):C(mba_p)  5.189954e+12  204.0  1.068976  0.518493\n",
       "Residual            1.665955e+11    7.0       NaN       NaN"
      ]
     },
     "execution_count": 11,
     "metadata": {},
     "output_type": "execute_result"
    }
   ],
   "source": [
    "anova_table"
   ]
  }
 ],
 "metadata": {
  "kernelspec": {
   "display_name": "Python 3 (ipykernel)",
   "language": "python",
   "name": "python3"
  },
  "language_info": {
   "codemirror_mode": {
    "name": "ipython",
    "version": 3
   },
   "file_extension": ".py",
   "mimetype": "text/x-python",
   "name": "python",
   "nbconvert_exporter": "python",
   "pygments_lexer": "ipython3",
   "version": "3.11.5"
  }
 },
 "nbformat": 4,
 "nbformat_minor": 5
}
